{
 "cells": [
  {
   "attachments": {},
   "cell_type": "markdown",
   "metadata": {},
   "source": [
    "## Importaciones"
   ]
  },
  {
   "cell_type": "code",
   "execution_count": 1,
   "metadata": {},
   "outputs": [],
   "source": [
    "import pandas as pd\n",
    "import math\n",
    "import numpy as np\n",
    "from random import randint\n",
    "import hashlib\n",
    "import re\n",
    "\n",
    "from tqdm import tqdm"
   ]
  },
  {
   "attachments": {},
   "cell_type": "markdown",
   "metadata": {},
   "source": [
    "## Hiperparámetros"
   ]
  },
  {
   "cell_type": "code",
   "execution_count": 53,
   "metadata": {},
   "outputs": [],
   "source": [
    "signature_size = 50     # Numero de funciones hash\n",
    "bands_nr = 10           # Numero de bandas\n",
    "threshold = 0.5         # Umbral de similitud\n",
    "upper_threshold = 0.65   # Umbral de similitud superior\n",
    "user_thereshold = 4     # Umbral de usuarios similares\n",
    "k = 3                   # Largo de los shingles\n",
    "\n",
    "total_tweets = 0.1      # Porcentaje de tweets a procesar"
   ]
  },
  {
   "attachments": {},
   "cell_type": "markdown",
   "metadata": {},
   "source": [
    "## Cargar datos y sacar muestra"
   ]
  },
  {
   "cell_type": "code",
   "execution_count": 3,
   "metadata": {},
   "outputs": [
    {
     "data": {
      "text/plain": [
       "Index(['id', 'screen_name', 'text'], dtype='object')"
      ]
     },
     "execution_count": 3,
     "metadata": {},
     "output_type": "execute_result"
    }
   ],
   "source": [
    "req_cols = ['id','screen_name','text']\n",
    "row_num = math.ceil(total_tweets * 4594980)  # % de los datos\n",
    "\n",
    "# Abrir el archivo CSV y procesarlo línea por línea\n",
    "tweets_df = pd.read_csv(\"tweets_2022_abril_junio.csv\", usecols=req_cols, nrows=row_num)\n",
    "\n",
    "tweets_df.columns"
   ]
  },
  {
   "cell_type": "code",
   "execution_count": 4,
   "metadata": {},
   "outputs": [
    {
     "data": {
      "text/plain": [
       "459498"
      ]
     },
     "execution_count": 4,
     "metadata": {},
     "output_type": "execute_result"
    }
   ],
   "source": [
    "doc_nr = len(tweets_df)\n",
    "doc_nr"
   ]
  },
  {
   "attachments": {},
   "cell_type": "markdown",
   "metadata": {},
   "source": [
    "## Preprocesamiento de datos"
   ]
  },
  {
   "cell_type": "code",
   "execution_count": 5,
   "metadata": {},
   "outputs": [
    {
     "name": "stderr",
     "output_type": "stream",
     "text": [
      "459498it [00:41, 11095.26it/s]\n"
     ]
    }
   ],
   "source": [
    "for index, row in tqdm(tweets_df.iterrows()):\n",
    "    text = row['text'].replace('\\n', '').replace('\\r', '')\n",
    "    text = re.sub(r'^RT\\s+@\\w+:\\s+', '',text).lower()\n",
    "    text = re.sub(r'@\\w+', '', text)\n",
    "    text = text.lstrip(' ').rstrip(' ')\n",
    "    tweets_df.at[index, 'text'] = text"
   ]
  },
  {
   "cell_type": "code",
   "execution_count": 6,
   "metadata": {},
   "outputs": [
    {
     "data": {
      "text/html": [
       "<div>\n",
       "<style scoped>\n",
       "    .dataframe tbody tr th:only-of-type {\n",
       "        vertical-align: middle;\n",
       "    }\n",
       "\n",
       "    .dataframe tbody tr th {\n",
       "        vertical-align: top;\n",
       "    }\n",
       "\n",
       "    .dataframe thead th {\n",
       "        text-align: right;\n",
       "    }\n",
       "</style>\n",
       "<table border=\"1\" class=\"dataframe\">\n",
       "  <thead>\n",
       "    <tr style=\"text-align: right;\">\n",
       "      <th></th>\n",
       "      <th>id</th>\n",
       "      <th>screen_name</th>\n",
       "      <th>text</th>\n",
       "    </tr>\n",
       "  </thead>\n",
       "  <tbody>\n",
       "    <tr>\n",
       "      <th>0</th>\n",
       "      <td>1512186166438637582</td>\n",
       "      <td>h0l4d4ni3l4</td>\n",
       "      <td>tras casi 50 años del golpe, la constitución s...</td>\n",
       "    </tr>\n",
       "    <tr>\n",
       "      <th>1</th>\n",
       "      <td>1512186202367045642</td>\n",
       "      <td>Claudio70932894</td>\n",
       "      <td>mañana jueves a las 18hrs. comienza nuestro pr...</td>\n",
       "    </tr>\n",
       "    <tr>\n",
       "      <th>2</th>\n",
       "      <td>1512186287284924418</td>\n",
       "      <td>Cesar_A_RR</td>\n",
       "      <td>aquí está el aporte de  con respecto a los der...</td>\n",
       "    </tr>\n",
       "    <tr>\n",
       "      <th>3</th>\n",
       "      <td>1512186335754301446</td>\n",
       "      <td>rosmarieher</td>\n",
       "      <td>la pelotudez no tiene limites...no tiene</td>\n",
       "    </tr>\n",
       "    <tr>\n",
       "      <th>4</th>\n",
       "      <td>1512186407841767424</td>\n",
       "      <td>GQuelluen</td>\n",
       "      <td>ante la circulación de noticias falsas, les qu...</td>\n",
       "    </tr>\n",
       "  </tbody>\n",
       "</table>\n",
       "</div>"
      ],
      "text/plain": [
       "                    id      screen_name   \n",
       "0  1512186166438637582      h0l4d4ni3l4  \\\n",
       "1  1512186202367045642  Claudio70932894   \n",
       "2  1512186287284924418       Cesar_A_RR   \n",
       "3  1512186335754301446      rosmarieher   \n",
       "4  1512186407841767424        GQuelluen   \n",
       "\n",
       "                                                text  \n",
       "0  tras casi 50 años del golpe, la constitución s...  \n",
       "1  mañana jueves a las 18hrs. comienza nuestro pr...  \n",
       "2  aquí está el aporte de  con respecto a los der...  \n",
       "3           la pelotudez no tiene limites...no tiene  \n",
       "4  ante la circulación de noticias falsas, les qu...  "
      ]
     },
     "execution_count": 6,
     "metadata": {},
     "output_type": "execute_result"
    }
   ],
   "source": [
    "tweets_df.head()"
   ]
  },
  {
   "attachments": {},
   "cell_type": "markdown",
   "metadata": {},
   "source": [
    "## Obtener Shingles por tweet y todos los shingles"
   ]
  },
  {
   "cell_type": "code",
   "execution_count": 7,
   "metadata": {},
   "outputs": [
    {
     "name": "stderr",
     "output_type": "stream",
     "text": [
      "100%|██████████| 459498/459498 [00:15<00:00, 29903.57it/s]\n"
     ]
    }
   ],
   "source": [
    "tweets_df[\"shingles\"] = [set([tweet[i:i+k] for i in range(len(tweet) - k + 1)]) for tweet in tqdm(tweets_df[\"text\"])]"
   ]
  },
  {
   "attachments": {},
   "cell_type": "markdown",
   "metadata": {},
   "source": [
    "## Funciones de Hash"
   ]
  },
  {
   "cell_type": "code",
   "execution_count": 8,
   "metadata": {},
   "outputs": [],
   "source": [
    "class hashFamily:\n",
    "    def __init__(self, i):\n",
    "        self.resultSize = 8 # Cantidad de bytes que queremos de vuelta\n",
    "        self.maxLen = # largo de nuestro i (en decimal)\n",
    "        self.salt = str(i).zfill(self.maxLen)[-self.maxLen:]\n",
    "        \n",
    "    def get_hash_value(self, el_to_hash):\n",
    "        return int(hashlib.sha1(str(el_to_hash).encode('utf-8') + self.salt.encode('utf-8')).hexdigest()[-self.resultSize:], 16)"
   ]
  },
  {
   "attachments": {},
   "cell_type": "markdown",
   "metadata": {},
   "source": [
    "## Calculamos el minhash de los tweets"
   ]
  },
  {
   "cell_type": "code",
   "execution_count": 9,
   "metadata": {},
   "outputs": [],
   "source": [
    "class minhashSigner:\n",
    "    def __init__(self, sig_size):\n",
    "        self.sig_size=sig_size\n",
    "        self.hash_functions = [hashFamily(randint(0,10000000000)) for i in range(0,sig_size)]\n",
    "    \n",
    "    def compute_set_signature(self, set_):\n",
    "        set_sig = []\n",
    "        for h_funct in self.hash_functions:\n",
    "            min_hash = math.inf\n",
    "            for el in set_:\n",
    "                h = h_funct.get_hash_value(el)\n",
    "                if h < min_hash:\n",
    "                    min_hash = h\n",
    "                \n",
    "            set_sig.append(min_hash)\n",
    "        \n",
    "        return set_sig\n",
    "    \n",
    "    # retorna una lista de listas que representa la matriz de firmas\n",
    "    def compute_signature_matrix(self, set_list):\n",
    "        signatures = []\n",
    "        for s in tqdm(set_list):\n",
    "            signatures.append( self.compute_set_signature(s) )\n",
    "            \n",
    "        return signatures"
   ]
  },
  {
   "cell_type": "code",
   "execution_count": 10,
   "metadata": {},
   "outputs": [
    {
     "name": "stderr",
     "output_type": "stream",
     "text": [
      "100%|██████████| 459498/459498 [41:31<00:00, 184.46it/s] \n"
     ]
    }
   ],
   "source": [
    "shingling_list = tweets_df[\"shingles\"]\n",
    "signer = minhashSigner(signature_size)\n",
    "signature_matrix = signer.compute_signature_matrix( shingling_list )"
   ]
  },
  {
   "attachments": {},
   "cell_type": "markdown",
   "metadata": {},
   "source": [
    "## Almacenamos los minhash para ahorrar tiempo"
   ]
  },
  {
   "cell_type": "code",
   "execution_count": 11,
   "metadata": {},
   "outputs": [],
   "source": [
    "np.savetxt('minhash.txt', signature_matrix)"
   ]
  },
  {
   "cell_type": "code",
   "execution_count": 12,
   "metadata": {},
   "outputs": [],
   "source": [
    "signature_matrix = np.loadtxt('minhash.txt')"
   ]
  },
  {
   "cell_type": "code",
   "execution_count": 13,
   "metadata": {},
   "outputs": [
    {
     "data": {
      "text/plain": [
       "array([[3.06944000e+06, 6.15750800e+06, 1.23405820e+07, ...,\n",
       "        1.71719110e+07, 3.27035330e+07, 1.08962560e+07],\n",
       "       [2.12782870e+07, 9.19297970e+07, 1.50364100e+06, ...,\n",
       "        1.10945680e+08, 4.05155430e+07, 1.81703540e+07],\n",
       "       [3.06944000e+06, 6.15750800e+06, 1.50364100e+06, ...,\n",
       "        1.71719110e+07, 2.25454490e+07, 1.12544487e+08],\n",
       "       ...,\n",
       "       [3.10876220e+07, 7.13054440e+07, 1.50333113e+08, ...,\n",
       "        9.44738490e+07, 3.51201770e+07, 5.03140310e+07],\n",
       "       [3.10876220e+07, 7.13054440e+07, 1.50333113e+08, ...,\n",
       "        9.44738490e+07, 3.51201770e+07, 5.03140310e+07],\n",
       "       [3.06944000e+06, 6.15750800e+06, 1.50364100e+06, ...,\n",
       "        1.04523956e+08, 2.25454490e+07, 3.55349100e+06]])"
      ]
     },
     "execution_count": 13,
     "metadata": {},
     "output_type": "execute_result"
    }
   ],
   "source": [
    "signature_matrix"
   ]
  },
  {
   "attachments": {},
   "cell_type": "markdown",
   "metadata": {},
   "source": [
    "## LSH (Locality Sensitive Hashing)"
   ]
  },
  {
   "cell_type": "code",
   "execution_count": 52,
   "metadata": {},
   "outputs": [],
   "source": [
    "class lsh:\n",
    "    def __init__(self, threshold=0.8):\n",
    "        self.threshold = threshold\n",
    "        \n",
    "    def get_signature_matrix_bands(self, sig_matrix, bands_nr, sign_len): \n",
    "        #bands_nr = b\n",
    "        #sign_len = n\n",
    "        r = int(sign_len/bands_nr) #numero de filas en cada banda\n",
    "        bands = {} # {band_nr: [col_1,col_2,...]} donde col_1 son todos los valores de Sig(S_i) para la banda b.\n",
    "        for i in range(0,bands_nr):\n",
    "            bands[i] = []\n",
    "        \n",
    "        # pone subconjuntos de las columnas de la matriz de firma en el bucket apropiado y cosidera una columna\n",
    "        # como un bloque único para que podamos hashear toda la columna.\n",
    "        # Básicamente, una banda es una lista de elementos, donde cada elemento es un subconjunto de una firma de un conjunto dado.\n",
    "        for signature in tqdm(sig_matrix): \n",
    "            \n",
    "            for i in range(0, bands_nr):\n",
    "                idx = i*r    \n",
    "                bands[i].append(' '.join(str(x) for x in signature[idx:idx+r]) ) \n",
    "                    \n",
    "        return bands\n",
    "\n",
    "    #band is a list \n",
    "    # contruye un diccionario {hash(band_column): doc_id que produjo este hash}\n",
    "    def get_band_buckets(self, band, hash_funct):\n",
    "        buckets = {}\n",
    "        for doc_id in tqdm(range(0,len(band))):\n",
    "            value = hash_funct.get_hash_value( band[doc_id] )\n",
    "            if value not in buckets:\n",
    "                buckets[value] = [doc_id]\n",
    "            else:\n",
    "                 buckets[value].append(doc_id)\n",
    "                \n",
    "        return buckets\n",
    "    \n",
    "    def get_candidates_list(self, buckets):\n",
    "        candidates = set()\n",
    "        # buckets es un diccionario que contiene key=bucket, value= lista de doc_ids que se hashearon a bucket\n",
    "        for bucket,candidate_list in tqdm(buckets.items()):\n",
    "            if len(candidate_list) > 1:\n",
    "                for i in range(0,len(candidate_list)-1):\n",
    "                    for j in range(i+1,len(candidate_list)):  \n",
    "                        pair = tuple(sorted( (candidate_list[i],candidate_list[j]) ))\n",
    "                        candidates.add(pair)\n",
    "                \n",
    "        return candidates # un conjunto de tuplas, cada tupla es un par candidato\n",
    "    \n",
    "    def check_candidates(self, candidates_list, threshold, sigs):\n",
    "        similar_docs = set() #set de tuplas\n",
    "        # similar_pair es una pareja que contiene doc_ids de documentos que se hashearon al mismo bucket\n",
    "        for  similar_pair in tqdm(candidates_list):\n",
    "            # para todos los pares de documentos en la lista, verifica la similitud de sus firmas\n",
    "            doc_id_1 = similar_pair[0]\n",
    "            doc_id_2 = similar_pair[1]\n",
    "            signature_1 = set(sigs[doc_id_1]) # obtiene la columna i de la matriz de firma donde i es doc_id en la lista de colisiones\n",
    "            signature_2 = set(sigs[doc_id_2])\n",
    "            js = len(signature_1.intersection(signature_2)) /len(signature_1.union(signature_2))\n",
    "            \n",
    "            if js >= threshold and js < upper_threshold:\n",
    "                similar_docs.add( tuple(sorted((doc_id_1,doc_id_2) )) )\n",
    "                        \n",
    "                        \n",
    "        return similar_docs\n",
    "    \n",
    "    def get_similar_items(self, sig_matrix, bands_nr, sign_len):\n",
    "        similar_docs = set()\n",
    "        # divide la matriz en firma en bandas\n",
    "        bands = self.get_signature_matrix_bands(sig_matrix,bands_nr,sign_len)\n",
    "        \n",
    "        # para todas las bandas\n",
    "        for band_id, elements in bands.items():\n",
    "            print(\"Band: \", band_id)\n",
    "            # crea los buckets para la banda dada (band_id) con una función hash aleatoria\n",
    "            buckets = self.get_band_buckets(elements, hash_funct=hashFamily(randint(0,10000000000)))\n",
    "            # Obtiene todos los pares candidatos\n",
    "            candidates = self.get_candidates_list(buckets)\n",
    "            # Revisa todas las firmas de pares candidatos\n",
    "            for sim_tuple in self.check_candidates(candidates, self.threshold, sig_matrix):\n",
    "                similar_docs.add(sim_tuple)\n",
    "\n",
    "        return similar_docs # Retorna todas las firmas similares que respetan el threshold"
   ]
  },
  {
   "cell_type": "code",
   "execution_count": 54,
   "metadata": {},
   "outputs": [
    {
     "name": "stderr",
     "output_type": "stream",
     "text": [
      "100%|██████████| 459498/459498 [00:16<00:00, 27086.14it/s]\n"
     ]
    },
    {
     "name": "stdout",
     "output_type": "stream",
     "text": [
      "Band:  0\n"
     ]
    },
    {
     "name": "stderr",
     "output_type": "stream",
     "text": [
      "100%|██████████| 459498/459498 [00:02<00:00, 166327.21it/s]\n",
      "100%|██████████| 155301/155301 [00:23<00:00, 6491.58it/s]\n",
      "100%|██████████| 46774005/46774005 [11:53<00:00, 65547.54it/s]\n"
     ]
    },
    {
     "name": "stdout",
     "output_type": "stream",
     "text": [
      "Band:  1\n"
     ]
    },
    {
     "name": "stderr",
     "output_type": "stream",
     "text": [
      "100%|██████████| 459498/459498 [00:01<00:00, 435409.67it/s]\n",
      "100%|██████████| 152951/152951 [00:25<00:00, 6034.14it/s]\n",
      "100%|██████████| 47948942/47948942 [12:11<00:00, 65573.87it/s]\n"
     ]
    },
    {
     "name": "stdout",
     "output_type": "stream",
     "text": [
      "Band:  2\n"
     ]
    },
    {
     "name": "stderr",
     "output_type": "stream",
     "text": [
      "100%|██████████| 459498/459498 [00:15<00:00, 29608.37it/s] \n",
      "100%|██████████| 154610/154610 [00:31<00:00, 4870.69it/s]\n",
      "100%|██████████| 46998917/46998917 [11:57<00:00, 65530.14it/s]\n"
     ]
    },
    {
     "name": "stdout",
     "output_type": "stream",
     "text": [
      "Band:  3\n"
     ]
    },
    {
     "name": "stderr",
     "output_type": "stream",
     "text": [
      "100%|██████████| 459498/459498 [00:01<00:00, 378656.39it/s]\n",
      "100%|██████████| 154293/154293 [00:22<00:00, 6845.85it/s]\n",
      "100%|██████████| 46685966/46685966 [11:48<00:00, 65918.89it/s]\n"
     ]
    },
    {
     "name": "stdout",
     "output_type": "stream",
     "text": [
      "Band:  4\n"
     ]
    },
    {
     "name": "stderr",
     "output_type": "stream",
     "text": [
      "100%|██████████| 459498/459498 [00:16<00:00, 28399.27it/s] \n",
      "100%|██████████| 157919/157919 [00:33<00:00, 4650.40it/s]\n",
      "100%|██████████| 46749641/46749641 [11:46<00:00, 66188.07it/s]\n"
     ]
    },
    {
     "name": "stdout",
     "output_type": "stream",
     "text": [
      "Band:  5\n"
     ]
    },
    {
     "name": "stderr",
     "output_type": "stream",
     "text": [
      "100%|██████████| 459498/459498 [00:01<00:00, 284765.19it/s]\n",
      "100%|██████████| 156118/156118 [00:22<00:00, 6859.44it/s]\n",
      "100%|██████████| 46798730/46798730 [11:42<00:00, 66654.57it/s]\n"
     ]
    },
    {
     "name": "stdout",
     "output_type": "stream",
     "text": [
      "Band:  6\n"
     ]
    },
    {
     "name": "stderr",
     "output_type": "stream",
     "text": [
      "100%|██████████| 459498/459498 [00:01<00:00, 447438.10it/s]\n",
      "100%|██████████| 154024/154024 [00:22<00:00, 6709.43it/s]\n",
      "100%|██████████| 47040464/47040464 [11:56<00:00, 65639.75it/s]\n"
     ]
    },
    {
     "name": "stdout",
     "output_type": "stream",
     "text": [
      "Band:  7\n"
     ]
    },
    {
     "name": "stderr",
     "output_type": "stream",
     "text": [
      "100%|██████████| 459498/459498 [00:17<00:00, 26970.31it/s] \n",
      "100%|██████████| 153747/153747 [00:31<00:00, 4874.78it/s]\n",
      "100%|██████████| 46742653/46742653 [11:48<00:00, 66010.58it/s]\n"
     ]
    },
    {
     "name": "stdout",
     "output_type": "stream",
     "text": [
      "Band:  8\n"
     ]
    },
    {
     "name": "stderr",
     "output_type": "stream",
     "text": [
      "100%|██████████| 459498/459498 [00:01<00:00, 375580.25it/s]\n",
      "100%|██████████| 157728/157728 [00:22<00:00, 6943.36it/s]\n",
      "100%|██████████| 46798169/46798169 [11:45<00:00, 66324.15it/s]\n"
     ]
    },
    {
     "name": "stdout",
     "output_type": "stream",
     "text": [
      "Band:  9\n"
     ]
    },
    {
     "name": "stderr",
     "output_type": "stream",
     "text": [
      "100%|██████████| 459498/459498 [00:16<00:00, 27436.74it/s] \n",
      "100%|██████████| 156376/156376 [00:33<00:00, 4737.20it/s]\n",
      "100%|██████████| 46781851/46781851 [11:45<00:00, 66279.68it/s]\n"
     ]
    }
   ],
   "source": [
    "lsh_instance = lsh(threshold)\n",
    "lsh_similar_itemset = lsh_instance.get_similar_items(signature_matrix, bands_nr, signature_size)\n",
    "\n",
    "np.savetxt('lsh.txt', list(lsh_similar_itemset))"
   ]
  },
  {
   "cell_type": "code",
   "execution_count": 56,
   "metadata": {},
   "outputs": [],
   "source": [
    "lsh_similar_itemset = np.loadtxt('lsh.txt')"
   ]
  },
  {
   "cell_type": "code",
   "execution_count": 57,
   "metadata": {},
   "outputs": [
    {
     "name": "stderr",
     "output_type": "stream",
     "text": [
      "100%|██████████| 416395/416395 [01:59<00:00, 3486.74it/s]\n"
     ]
    }
   ],
   "source": [
    "user_candidates = dict()\n",
    "tweets_candidates = dict()\n",
    "\n",
    "for i in tqdm(range(len(lsh_similar_itemset))):    \n",
    "    docs = lsh_similar_itemset[i]\n",
    "    tweet1_name = tweets_df.iloc[int(docs[0])][\"screen_name\"]\n",
    "    tweet2_name = tweets_df.iloc[int(docs[1])][\"screen_name\"]\n",
    "    tweet1_text = tweets_df.iloc[int(docs[0])][\"text\"]\n",
    "    tweet2_text = tweets_df.iloc[int(docs[1])][\"text\"]\n",
    "    names = tuple(sorted((tweet1_name,tweet2_name)))\n",
    "    if tweet1_name != tweet2_name:\n",
    "        if names not in user_candidates.keys():\n",
    "            user_candidates[names] = 1\n",
    "            tweets_candidates[names] = [[tweet1_text],[tweet2_text]]\n",
    "        else:\n",
    "            if tweet1_text not in tweets_candidates[names][0] and tweet1_text not in tweets_candidates[names][1] and tweet2_text not in tweets_candidates[names][0] and tweet2_text not in tweets_candidates[names][1]:\n",
    "                user_candidates[names] += 1\n",
    "                tweets_candidates[names][0].append(tweet1_text)\n",
    "                tweets_candidates[names][1].append(tweet2_text)"
   ]
  },
  {
   "cell_type": "code",
   "execution_count": 58,
   "metadata": {},
   "outputs": [
    {
     "name": "stdout",
     "output_type": "stream",
     "text": [
      "279233\n"
     ]
    }
   ],
   "source": [
    "print(len(user_candidates))"
   ]
  },
  {
   "cell_type": "code",
   "execution_count": 61,
   "metadata": {},
   "outputs": [
    {
     "name": "stdout",
     "output_type": "stream",
     "text": [
      "Evaluando usuarios ('JumpingStone20', 'v1_elena'), con 4 tweets similares\n",
      "Tweet 1 del Usuario: JumpingStone20\n",
      "rechazada esta indicación: \"el estado no puede en caso alguno expropiar, confiscar o nacionalizar los ahorros de los trabajad…\n",
      "Tweet 1 del Usuario: v1_elena\n",
      "207.rechazada: “el estado no puede en caso alguno expropiar, confiscar o nacionalizar los ahorros de los trabajadores”.…\n",
      "Tweet 2 del Usuario: JumpingStone20\n",
      "#rechazodesalida\n",
      "Tweet 2 del Usuario: v1_elena\n",
      "#rechazodesalida2022\n",
      "-----------------------------------------\n",
      "Evaluando usuarios ('canaito031', 'gloria_patriota'), con 5 tweets similares\n",
      "Tweet 1 del Usuario: canaito031\n",
      "#rechazocrece\n",
      "Tweet 1 del Usuario: gloria_patriota\n",
      "#rechazocrece 🇨🇱🇨🇱\n",
      "Tweet 2 del Usuario: canaito031\n",
      "#rechazoelmamarrachocomunista\n",
      "Tweet 2 del Usuario: gloria_patriota\n",
      "#asíno #rechazoelmamarrachocomunista\n",
      "-----------------------------------------\n",
      "Evaluando usuarios ('canaito031', 'marg9173'), con 4 tweets similares\n",
      "Tweet 1 del Usuario: canaito031\n",
      "#rechazodesalida2022\n",
      "Tweet 1 del Usuario: marg9173\n",
      "#rechazodesalida\n",
      "Tweet 2 del Usuario: canaito031\n",
      "#rechazoelmamarracho #rechazodesalida\n",
      "Tweet 2 del Usuario: marg9173\n",
      "#rechazoelmamarracho #rechazocrece\n",
      "-----------------------------------------\n",
      "Evaluando usuarios ('Alexia19542695', 'BurguesProleta'), con 4 tweets similares\n",
      "Tweet 1 del Usuario: Alexia19542695\n",
      "#rechazodesalida\n",
      "Tweet 1 del Usuario: BurguesProleta\n",
      "#rechazodesalida2022\n",
      "Tweet 2 del Usuario: Alexia19542695\n",
      "#rechazoelmamarracho #rechazodesalida #chilesedefiende #rechazocrece\n",
      "Tweet 2 del Usuario: BurguesProleta\n",
      "#rechazoelmamarracho #rechazodesalida2022 #rechazocrece\n",
      "-----------------------------------------\n",
      "Evaluando usuarios ('ProgreB', 'canaito031'), con 4 tweets similares\n",
      "Tweet 1 del Usuario: ProgreB\n",
      "#rechazoelmamarracho\n",
      "Tweet 1 del Usuario: canaito031\n",
      "#rechazocrece #rechazoelmamarracho\n",
      "Tweet 2 del Usuario: ProgreB\n",
      "#renunciaizkia  #acusacionconstitucionalsiches    #jacksongate\n",
      "Tweet 2 del Usuario: canaito031\n",
      "#renunciaizkia    #acusacionconstitucionalizkia    #jacksongate\n",
      "-----------------------------------------\n",
      "Evaluando usuarios ('Alexia19542695', 'JumpingStone20'), con 4 tweets similares\n",
      "Tweet 1 del Usuario: Alexia19542695\n",
      "#rechazoganael4deseptiembre #patriotas\n",
      "Tweet 1 del Usuario: JumpingStone20\n",
      "#rechazoganael4deseptiembre\n",
      "Tweet 2 del Usuario: Alexia19542695\n",
      "#rechazodesalida\n",
      "Tweet 2 del Usuario: JumpingStone20\n",
      "#rechazodesalida2022\n",
      "-----------------------------------------\n",
      "Evaluando usuarios ('JumpingStone20', 'canaito031'), con 4 tweets similares\n",
      "Tweet 1 del Usuario: JumpingStone20\n",
      "rechazada esta indicación: \"el estado no puede en caso alguno expropiar, confiscar o nacionalizar los ahorros de los trabajad…\n",
      "Tweet 1 del Usuario: canaito031\n",
      "207.rechazada: “el estado no puede en caso alguno expropiar, confiscar o nacionalizar los ahorros de los trabajadores”.…\n",
      "Tweet 2 del Usuario: JumpingStone20\n",
      "#rechazoganael4deseptiembre\n",
      "Tweet 2 del Usuario: canaito031\n",
      "#rechazoganael4deseptiembre #rechazoelmamarracho\n",
      "-----------------------------------------\n",
      "Evaluando usuarios ('JumpingStone20', 'janelg88'), con 5 tweets similares\n",
      "Tweet 1 del Usuario: JumpingStone20\n",
      "#rechazocrece #rechazoganael4deseptiembre #rechazoelmamarracho\n",
      "Tweet 1 del Usuario: janelg88\n",
      "#rechazodesalida #rechazocrece #rechazoporchile #rechazoelmamarracho #rechazoganael4deseptiembre\n",
      "Tweet 2 del Usuario: JumpingStone20\n",
      "#rechazodesalida\n",
      "Tweet 2 del Usuario: janelg88\n",
      "... #rechazodesalida !!!\n",
      "-----------------------------------------\n",
      "Evaluando usuarios ('AnitaVF4', 'JumpingStone20'), con 4 tweets similares\n",
      "Tweet 1 del Usuario: AnitaVF4\n",
      "#rechazoganael4deseptiembre\n",
      "Tweet 1 del Usuario: JumpingStone20\n",
      "#rechazoganael4deseptiembre #rechazoelmamarracho\n",
      "Tweet 2 del Usuario: AnitaVF4\n",
      "#rechazoganael4deseptiembre #rechazotransversal\n",
      "Tweet 2 del Usuario: JumpingStone20\n",
      "#rechazoelmamarracho #rechazoganael4deseptiembre #rechazotransversal\n",
      "-----------------------------------------\n",
      "Evaluando usuarios ('JumpingStone20', 'silvanafati77'), con 5 tweets similares\n",
      "Tweet 1 del Usuario: JumpingStone20\n",
      "#rechazodesalida\n",
      "Tweet 1 del Usuario: silvanafati77\n",
      "... #rechazodesalida !!!\n",
      "Tweet 2 del Usuario: JumpingStone20\n",
      "#rechazoganael4deseptiembre #rechazodesalida #4septiembrerechazo #rechazodetodos\n",
      "Tweet 2 del Usuario: silvanafati77\n",
      "#rechazoganael4deseptiembre #rechazodesalida2022 #rechazodesalida #rechazo\n",
      "-----------------------------------------\n",
      "Evaluando usuarios ('JumpingStone20', 'andresjavierCL'), con 4 tweets similares\n",
      "Tweet 1 del Usuario: JumpingStone20\n",
      "... #rechazodesalida !!!\n",
      "Tweet 1 del Usuario: andresjavierCL\n",
      "#rechazodesalida\n",
      "Tweet 2 del Usuario: JumpingStone20\n",
      "son un fraude.#rechazotransversal #rechazoganael4deseptiembre #rechazoelmamarracho #rechazocrece https://t.…\n",
      "Tweet 2 del Usuario: andresjavierCL\n",
      "#rechazocrece #rechazoelmamarracho #rechazoganael4deseptiembre\n",
      "-----------------------------------------\n",
      "Evaluando usuarios ('JumpingStone20', 'patiisep'), con 4 tweets similares\n",
      "Tweet 1 del Usuario: JumpingStone20\n",
      "#rechazocrece #rechazoganael4deseptiembre #rechazoelmamarracho\n",
      "Tweet 1 del Usuario: patiisep\n",
      "#rechazoganael4deseptiembre 🇨🇱🇨🇱🇨🇱#rechazocrece 🇨🇱🇨🇱🇨🇱#rechazoelmamarracho  🇨🇱🇨🇱🇨🇱#rechazodesalida…\n",
      "Tweet 2 del Usuario: JumpingStone20\n",
      "por eso #rechazoelmamarracho\n",
      "Tweet 2 del Usuario: patiisep\n",
      "por eso #rechazo\n",
      "-----------------------------------------\n",
      "Evaluando usuarios ('ginniasa', 'giovannaroa'), con 7 tweets similares\n",
      "Tweet 1 del Usuario: ginniasa\n",
      "🟢 aprobado artículo 57🟢 favor: 126🔴 contra: 1🟡 abstención: 20¡pasa a borrador de la nueva constitución! ✍🏼 https://t.co/rllwne17qm\n",
      "Tweet 1 del Usuario: giovannaroa\n",
      "🟢 aprobado artículo 14🟢 favor: 114🔴 contra: 5🟡 abstención: 29¡pasa a borrador de la nueva constitución! ✍🏼 https://t…\n",
      "Tweet 2 del Usuario: ginniasa\n",
      "🔴 rechazado artículo 50, n4🟢 favor: 96🔴 contra: 34🟡 abstención: 14📌 vuelve a comisión para nueva propuesta https://t…\n",
      "Tweet 2 del Usuario: giovannaroa\n",
      "🔴 rechazado artículo 50, n2🟢 favor: 95🔴 contra: 41🟡 abstención: 8📌 vuelve a comisión para nueva propuesta https://t.co/zavfovzeq9\n",
      "-----------------------------------------\n",
      "Evaluando usuarios ('Giovann56636968', 'ygorayeb'), con 4 tweets similares\n",
      "Tweet 1 del Usuario: Giovann56636968\n",
      "🤗🇨🇱👇‼️favor, ver hilo completo. https://t.co/jwda0fxkc9\n",
      "Tweet 1 del Usuario: ygorayeb\n",
      "🤗🇨🇱👇‼️favor, ver hilo completo. https://t.co/s4eg92agty\n",
      "Tweet 2 del Usuario: Giovann56636968\n",
      "🤗🇨🇱👇‼️favor, ver hilo completo. https://t.co/uqnsa6crio\n",
      "Tweet 2 del Usuario: ygorayeb\n",
      "🚨🇨🇱👇🤗‼️favor, ver hilo completo. https://t.co/s4eg92agty\n",
      "-----------------------------------------\n",
      "Evaluando usuarios ('AbrahamUrnas', 'clauriv56002711'), con 4 tweets similares\n",
      "Tweet 1 del Usuario: AbrahamUrnas\n",
      "#rechazoelmamarracho 💩💩\n",
      "Tweet 1 del Usuario: clauriv56002711\n",
      "#rechazoelmamarracho 🤚🤬🔥🔥🔥🔥\n",
      "Tweet 2 del Usuario: AbrahamUrnas\n",
      "#rechazoelmamarracho\n",
      "Tweet 2 del Usuario: clauriv56002711\n",
      "#rechazoelmamarracho 🤚🤬🔥🔥🔥🔥🔥\n",
      "-----------------------------------------\n",
      "Evaluando usuarios ('DosHablo', 'eram_pao'), con 4 tweets similares\n",
      "Tweet 1 del Usuario: DosHablo\n",
      "#rechazoel4deseptiembre\n",
      "Tweet 1 del Usuario: eram_pao\n",
      "#rechazoganael4deseptiembre\n",
      "Tweet 2 del Usuario: DosHablo\n",
      "#rechazoelmamarracho\n",
      "Tweet 2 del Usuario: eram_pao\n",
      "yo #rechazoelmamarracho\n",
      "-----------------------------------------\n",
      "Evaluando usuarios ('BurguesProleta', 'canaito031'), con 5 tweets similares\n",
      "Tweet 1 del Usuario: BurguesProleta\n",
      "#rechazoelmamarrachocomunista\n",
      "Tweet 1 del Usuario: canaito031\n",
      "#rechazoelmamarrachocomunista y totalitario\n",
      "Tweet 2 del Usuario: BurguesProleta\n",
      "#rechazodesalida\n",
      "Tweet 2 del Usuario: canaito031\n",
      "#rechazodesalida2022\n",
      "-----------------------------------------\n",
      "Evaluando usuarios ('BonitaClauditaT', 'janelg88'), con 4 tweets similares\n",
      "Tweet 1 del Usuario: BonitaClauditaT\n",
      "#rechazodesalida #rechazocrece #rechazoporchile #rechazoelmamarracho #rechazoganael4deseptiembre\n",
      "Tweet 1 del Usuario: janelg88\n",
      "#rechazodesalida2022 #rechazoelmamarracho #rechazoganael4deseptiembre #rechazodesalida #rechazo\n",
      "Tweet 2 del Usuario: BonitaClauditaT\n",
      "#rechazodesalida2022 #rechazoganael4deseptiembre #rechazopopular #rechazodesalida\n",
      "Tweet 2 del Usuario: janelg88\n",
      "#rechazopopular #rechazoganael4deseptiembre\n",
      "-----------------------------------------\n",
      "Evaluando usuarios ('Dpm_Chile2020', 'Maurici07154782'), con 5 tweets similares\n",
      "Tweet 1 del Usuario: Dpm_Chile2020\n",
      "#laconvencionsedefiende #nuevaconstitucion #convencionconstitucional #plebiscitosalida #apruebo 🇨🇱 https://…\n",
      "Tweet 1 del Usuario: Maurici07154782\n",
      "#apruebodesalida #laconvencionsedefiende #nuevaconstitucion #convencionconstitucional #plebiscitosalida #apruebo 🇨🇱un p…\n",
      "Tweet 2 del Usuario: Dpm_Chile2020\n",
      "este país necesita un cambio #nuevaconstitucion 📗 🇨🇱 #apruebodesalida 🗳️    …\n",
      "Tweet 2 del Usuario: Maurici07154782\n",
      "este país necesita un cambio #nuevaconstitucion 📗 🇨🇱 #apruebodesalida 🗳️ https://t.co/zbbszwoap4\n",
      "-----------------------------------------\n",
      "Evaluando usuarios ('BurguesProleta', 'JumpingStone20'), con 4 tweets similares\n",
      "Tweet 1 del Usuario: BurguesProleta\n",
      "#rechazoelmamarrachocomunista y totalitario\n",
      "Tweet 1 del Usuario: JumpingStone20\n",
      "corta #rechazoelmamarrachocomunista\n",
      "Tweet 2 del Usuario: BurguesProleta\n",
      "rty #rechazoganael4deseptiembre\n",
      "Tweet 2 del Usuario: JumpingStone20\n",
      "#rechazoganael4deseptiembre\n",
      "-----------------------------------------\n",
      "Evaluando usuarios ('Giovann56636968', 'berfontaine'), con 4 tweets similares\n",
      "Tweet 1 del Usuario: Giovann56636968\n",
      "muchas gracias. juntos somos pura fuerza\n",
      "Tweet 1 del Usuario: berfontaine\n",
      "gracias. juntos somos pura fuerza\n",
      "Tweet 2 del Usuario: Giovann56636968\n",
      "gracias ! juntos seremos pura fuerza\n",
      "Tweet 2 del Usuario: berfontaine\n",
      "gracias! juntos somos pura fuerza\n",
      "-----------------------------------------\n",
      "Evaluando usuarios ('JumpingStone20', 'marg9173'), con 4 tweets similares\n",
      "Tweet 1 del Usuario: JumpingStone20\n",
      "#rechazoel4deseptiembre\n",
      "Tweet 1 del Usuario: marg9173\n",
      "#rechazoganael4deseptiembre\n",
      "Tweet 2 del Usuario: JumpingStone20\n",
      "#rechazoganael4deseptiembre #rechazoelmamarracho\n",
      "Tweet 2 del Usuario: marg9173\n",
      "#rechazoelmamarracho #rechazoganael4deseptiembre #rechazopopular     ladrones no al marxismo\n",
      "-----------------------------------------\n",
      "Evaluando usuarios ('andresjavierCL', 'marg9173'), con 4 tweets similares\n",
      "Tweet 1 del Usuario: andresjavierCL\n",
      "#rechazoganael4deseptiembre #rechazodesalida #rechazocrece #rechazoelmamarracho #rechazopopular #rechazoelmamarrachocomuni…\n",
      "Tweet 1 del Usuario: marg9173\n",
      "#rechazoganael4deseptiembre #rechazopopular #rechazoelmamarracho\n",
      "Tweet 2 del Usuario: andresjavierCL\n",
      "#rechazoel4deseptiembre\n",
      "Tweet 2 del Usuario: marg9173\n",
      "#rechazoganael4deseptiembre\n",
      "-----------------------------------------\n",
      "Evaluando usuarios ('janelg88', 'silvanafati77'), con 5 tweets similares\n",
      "Tweet 1 del Usuario: janelg88\n",
      "#rechazodesalida #rechazocrece #rechazocrece #rechazocreceunido\n",
      "Tweet 1 del Usuario: silvanafati77\n",
      "#rechazocrece #rechazodesalida\n",
      "Tweet 2 del Usuario: janelg88\n",
      "#rechazodesalida #rechazocrece #rechazoporchile #rechazoelmamarracho #rechazoganael4deseptiembre\n",
      "Tweet 2 del Usuario: silvanafati77\n",
      "#rechazoelmamarrachocomunista #rechazoporchile #rechazodesalida #rechazoganael4deseptiembre\n",
      "-----------------------------------------\n",
      "Evaluando usuarios ('Miltonterasss', 'marg9173'), con 4 tweets similares\n",
      "Tweet 1 del Usuario: Miltonterasss\n",
      "#rechazoelmamarracho #rechazodesalida\n",
      "Tweet 1 del Usuario: marg9173\n",
      "#rechazodesalida #rechazoelmamarrachocomunista\n",
      "Tweet 2 del Usuario: Miltonterasss\n",
      "#rechazodesalida #rechazoelmamarracho #rechazoganael4deseptiembre\n",
      "Tweet 2 del Usuario: marg9173\n",
      "#rechazoelmamarracho #rechazoganael4deseptiembre #rechazopopular     ladrones no al marxismo\n",
      "-----------------------------------------\n",
      "Evaluando usuarios ('JumpingStone20', 'bybleanstartup'), con 4 tweets similares\n",
      "Tweet 1 del Usuario: JumpingStone20\n",
      "#rechazodesalida\n",
      "Tweet 1 del Usuario: bybleanstartup\n",
      "#rechazodesalida2022\n",
      "Tweet 2 del Usuario: JumpingStone20\n",
      "#rechazocrece #rechazoganael4deseptiembre #rechazoelmamarracho #rechazoelmamarrachocomunista #rechazodesalida #rechazopor…\n",
      "Tweet 2 del Usuario: bybleanstartup\n",
      "#rechazoganael4deseptiembre  #rechazoelmamarrachocomunista #rechazocrece\n",
      "-----------------------------------------\n",
      "Evaluando usuarios ('ProgreB', 'janelg88'), con 5 tweets similares\n",
      "Tweet 1 del Usuario: ProgreB\n",
      "por eso rechazo#rechazoelmamarracho #rechazodesalida #rechazopopular #rechazoconstitucioncomunista #convenciont…\n",
      "Tweet 1 del Usuario: janelg88\n",
      "#rechazoelmamarracho #rechazodesalida2022 #rechazopopular #rechazocrece #rechazoconstitucioncomunista #r…\n",
      "Tweet 2 del Usuario: ProgreB\n",
      "#rechazodesalida #rechazocrece #rechazocrece\n",
      "Tweet 2 del Usuario: janelg88\n",
      "#rechazocrece #rechazodesalida2022 #rechazodesalida\n",
      "-----------------------------------------\n",
      "Evaluando usuarios ('AnitaVF4', 'marg9173'), con 4 tweets similares\n",
      "Tweet 1 del Usuario: AnitaVF4\n",
      "#rechazoelmamarracho #rechazoganael4deseptiembre #rechazopopular     ladrones no al marxismo\n",
      "Tweet 1 del Usuario: marg9173\n",
      "#rechazoelmamarracho #rechazoganael4deseptiembre #rechazotransversal\n",
      "Tweet 2 del Usuario: AnitaVF4\n",
      "#rechazoganael4deseptiembre #rechazopopular #rechazoelmamarracho\n",
      "Tweet 2 del Usuario: marg9173\n",
      "#rechazoganael4deseptiembre #rechazoelmamarracho\n",
      "-----------------------------------------\n",
      "Evaluando usuarios ('Miltonterasss', 'silvanafati77'), con 4 tweets similares\n",
      "Tweet 1 del Usuario: Miltonterasss\n",
      "#rechazodesalida #rechazoel\n",
      "Tweet 1 del Usuario: silvanafati77\n",
      "#rechazodesalida\n",
      "Tweet 2 del Usuario: Miltonterasss\n",
      "#rechazoelmamarracho #rechazodesalida\n",
      "Tweet 2 del Usuario: silvanafati77\n",
      "#rechazodesalida #rechazoelmamarracho #lonconmiente\n",
      "-----------------------------------------\n",
      "Evaluando usuarios ('Alexia19542695', 'marg9173'), con 4 tweets similares\n",
      "Tweet 1 del Usuario: Alexia19542695\n",
      "#rechazoel4deseptiembre\n",
      "Tweet 1 del Usuario: marg9173\n",
      "#rechazoganael4deseptiembre\n",
      "Tweet 2 del Usuario: Alexia19542695\n",
      "#rechazoelmamarracho #rechazodesalida\n",
      "Tweet 2 del Usuario: marg9173\n",
      "#rechazodesalida2022 #rechazoelmamarracho\n",
      "-----------------------------------------\n",
      "Evaluando usuarios ('Alexia19542695', 'LarrainVeliz'), con 4 tweets similares\n",
      "Tweet 1 del Usuario: Alexia19542695\n",
      "#rechazodesalida2022\n",
      "Tweet 1 del Usuario: LarrainVeliz\n",
      "#rechazocrece #rechazodesalida2022\n",
      "Tweet 2 del Usuario: Alexia19542695\n",
      "#rechazoganael4deseptiembre #patriotas\n",
      "Tweet 2 del Usuario: LarrainVeliz\n",
      "#rechazoganael4deseptiembre\n",
      "-----------------------------------------\n"
     ]
    }
   ],
   "source": [
    "user_matches = [i for i in user_candidates if user_candidates[i] >= user_thereshold]\n",
    "\n",
    "for i in user_matches:\n",
    "    if user_candidates[i] >= user_thereshold:\n",
    "        print(f\"Evaluando usuarios {i}, con {user_candidates[i]} tweets similares\")\n",
    "        for j in range(user_candidates[i]):\n",
    "            print(f\"Tweet {j + 1} del Usuario: {i[0]}\")\n",
    "            print(tweets_candidates[i][0][j])\n",
    "            print(f\"Tweet {j + 1} del Usuario: {i[1]}\")\n",
    "            print(tweets_candidates[i][1][j])\n",
    "            if j == 1:\n",
    "                break\n",
    "        print(\"-----------------------------------------\")\n",
    "        if i == 2:\n",
    "            break"
   ]
  },
  {
   "cell_type": "code",
   "execution_count": 62,
   "metadata": {},
   "outputs": [
    {
     "name": "stdout",
     "output_type": "stream",
     "text": [
      "31\n"
     ]
    },
    {
     "data": {
      "text/plain": [
       "[('JumpingStone20', 'v1_elena'),\n",
       " ('canaito031', 'gloria_patriota'),\n",
       " ('canaito031', 'marg9173'),\n",
       " ('Alexia19542695', 'BurguesProleta'),\n",
       " ('ProgreB', 'canaito031'),\n",
       " ('Alexia19542695', 'JumpingStone20'),\n",
       " ('JumpingStone20', 'canaito031'),\n",
       " ('JumpingStone20', 'janelg88'),\n",
       " ('AnitaVF4', 'JumpingStone20'),\n",
       " ('JumpingStone20', 'silvanafati77'),\n",
       " ('JumpingStone20', 'andresjavierCL'),\n",
       " ('JumpingStone20', 'patiisep'),\n",
       " ('ginniasa', 'giovannaroa'),\n",
       " ('Giovann56636968', 'ygorayeb'),\n",
       " ('AbrahamUrnas', 'clauriv56002711'),\n",
       " ('DosHablo', 'eram_pao'),\n",
       " ('BurguesProleta', 'canaito031'),\n",
       " ('BonitaClauditaT', 'janelg88'),\n",
       " ('Dpm_Chile2020', 'Maurici07154782'),\n",
       " ('BurguesProleta', 'JumpingStone20'),\n",
       " ('Giovann56636968', 'berfontaine'),\n",
       " ('JumpingStone20', 'marg9173'),\n",
       " ('andresjavierCL', 'marg9173'),\n",
       " ('janelg88', 'silvanafati77'),\n",
       " ('Miltonterasss', 'marg9173'),\n",
       " ('JumpingStone20', 'bybleanstartup'),\n",
       " ('ProgreB', 'janelg88'),\n",
       " ('AnitaVF4', 'marg9173'),\n",
       " ('Miltonterasss', 'silvanafati77'),\n",
       " ('Alexia19542695', 'marg9173'),\n",
       " ('Alexia19542695', 'LarrainVeliz')]"
      ]
     },
     "execution_count": 62,
     "metadata": {},
     "output_type": "execute_result"
    }
   ],
   "source": [
    "print(len(user_matches))\n",
    "user_matches"
   ]
  },
  {
   "attachments": {},
   "cell_type": "markdown",
   "metadata": {},
   "source": [
    "## Referencias"
   ]
  },
  {
   "attachments": {},
   "cell_type": "markdown",
   "metadata": {},
   "source": [
    "Teoría: http://infolab.stanford.edu/~ullman/mmds/ch3.pdf\n",
    "\n",
    "Código referenciado: https://github.com/nicoDs96/Document-Similarity-using-Python-and-PySpark/blob/master/LSH/DM_HW2_Ex2.ipynb"
   ]
  }
 ],
 "metadata": {
  "kernelspec": {
   "display_name": "Python 3",
   "language": "python",
   "name": "python3"
  },
  "language_info": {
   "codemirror_mode": {
    "name": "ipython",
    "version": 3
   },
   "file_extension": ".py",
   "mimetype": "text/x-python",
   "name": "python",
   "nbconvert_exporter": "python",
   "pygments_lexer": "ipython3",
   "version": "3.10.4"
  },
  "orig_nbformat": 4
 },
 "nbformat": 4,
 "nbformat_minor": 2
}
